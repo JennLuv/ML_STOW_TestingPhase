{
  "nbformat": 4,
  "nbformat_minor": 0,
  "metadata": {
    "colab": {
      "provenance": []
    },
    "kernelspec": {
      "display_name": "Python 3",
      "language": "python",
      "name": "python3"
    },
    "language_info": {
      "codemirror_mode": {
        "name": "ipython",
        "version": 3
      },
      "file_extension": ".py",
      "mimetype": "text/x-python",
      "name": "python",
      "nbconvert_exporter": "python",
      "pygments_lexer": "ipython3",
      "version": "3.7.7"
    },
    "widgets": {
      "application/vnd.jupyter.widget-state+json": {
        "1cea8e53d8194fae837d07ad202c0dd3": {
          "model_module": "@jupyter-widgets/controls",
          "model_name": "FileUploadModel",
          "model_module_version": "1.5.0",
          "state": {
            "_counter": 1,
            "_dom_classes": [],
            "_model_module": "@jupyter-widgets/controls",
            "_model_module_version": "1.5.0",
            "_model_name": "FileUploadModel",
            "_view_count": null,
            "_view_module": "@jupyter-widgets/controls",
            "_view_module_version": "1.5.0",
            "_view_name": "FileUploadView",
            "accept": ".json",
            "button_style": "",
            "data": [
              null
            ],
            "description": "Upload",
            "description_tooltip": null,
            "disabled": false,
            "error": "",
            "icon": "upload",
            "layout": "IPY_MODEL_dada6683087b464f8e0bf4d7bb638187",
            "metadata": [
              {
                "name": "fir-ml-9258b-firebase-adminsdk-391on-fe5321504b.json",
                "type": "application/json",
                "size": 2376,
                "lastModified": 1683773439805
              }
            ],
            "multiple": false,
            "style": "IPY_MODEL_cf07c2c892a940a297f8ff3c353c7257"
          }
        },
        "dada6683087b464f8e0bf4d7bb638187": {
          "model_module": "@jupyter-widgets/base",
          "model_name": "LayoutModel",
          "model_module_version": "1.2.0",
          "state": {
            "_model_module": "@jupyter-widgets/base",
            "_model_module_version": "1.2.0",
            "_model_name": "LayoutModel",
            "_view_count": null,
            "_view_module": "@jupyter-widgets/base",
            "_view_module_version": "1.2.0",
            "_view_name": "LayoutView",
            "align_content": null,
            "align_items": null,
            "align_self": null,
            "border": null,
            "bottom": null,
            "display": null,
            "flex": null,
            "flex_flow": null,
            "grid_area": null,
            "grid_auto_columns": null,
            "grid_auto_flow": null,
            "grid_auto_rows": null,
            "grid_column": null,
            "grid_gap": null,
            "grid_row": null,
            "grid_template_areas": null,
            "grid_template_columns": null,
            "grid_template_rows": null,
            "height": null,
            "justify_content": null,
            "justify_items": null,
            "left": null,
            "margin": null,
            "max_height": null,
            "max_width": null,
            "min_height": null,
            "min_width": null,
            "object_fit": null,
            "object_position": null,
            "order": null,
            "overflow": null,
            "overflow_x": null,
            "overflow_y": null,
            "padding": null,
            "right": null,
            "top": null,
            "visibility": null,
            "width": null
          }
        },
        "cf07c2c892a940a297f8ff3c353c7257": {
          "model_module": "@jupyter-widgets/controls",
          "model_name": "ButtonStyleModel",
          "model_module_version": "1.5.0",
          "state": {
            "_model_module": "@jupyter-widgets/controls",
            "_model_module_version": "1.5.0",
            "_model_name": "ButtonStyleModel",
            "_view_count": null,
            "_view_module": "@jupyter-widgets/base",
            "_view_module_version": "1.2.0",
            "_view_name": "StyleView",
            "button_color": null,
            "font_weight": ""
          }
        }
      }
    }
  },
  "cells": [
    {
      "cell_type": "markdown",
      "metadata": {
        "id": "XK1TC6JmaSo5"
      },
      "source": [
        "This Colab demonstrates how you can use the Firebase Admin Python SDK from a Jupyter notebook to manage your Firebase-hosted ML models."
      ]
    },
    {
      "cell_type": "markdown",
      "metadata": {
        "id": "qJ07z89GsNqh"
      },
      "source": [
        "# **1. Upload the json service account key file for your project to the runtime**"
      ]
    },
    {
      "cell_type": "code",
      "metadata": {
        "id": "8OeMQU9az4gh",
        "colab": {
          "base_uri": "https://localhost:8080/",
          "height": 67,
          "referenced_widgets": [
            "1cea8e53d8194fae837d07ad202c0dd3",
            "dada6683087b464f8e0bf4d7bb638187",
            "cf07c2c892a940a297f8ff3c353c7257"
          ]
        },
        "outputId": "6aa8d746-62eb-448f-f175-7229510867d9"
      },
      "source": [
        "import ipywidgets\n",
        "\n",
        "uploader = ipywidgets.FileUpload(\n",
        "    accept='.json',\n",
        "    multiple=False\n",
        ")\n",
        "service_acct_file = {}\n",
        "def handle_upload(change):\n",
        "    service_acct_file['name'] = next(iter(change['owner'].value))\n",
        "    service_acct_file['data'] = change['owner'].value[service_acct_file['name']]['content']\n",
        "    with open(service_acct_file['name'], 'wb') as f:\n",
        "        f.write(service_acct_file['data'])\n",
        "    print('Uploaded {}'.format(service_acct_file['name']))\n",
        "uploader.observe(handle_upload, names='data')\n",
        "display(uploader)\n"
      ],
      "execution_count": null,
      "outputs": [
        {
          "output_type": "display_data",
          "data": {
            "text/plain": [
              "FileUpload(value={}, accept='.json', description='Upload')"
            ],
            "application/vnd.jupyter.widget-view+json": {
              "version_major": 2,
              "version_minor": 0,
              "model_id": "1cea8e53d8194fae837d07ad202c0dd3"
            }
          },
          "metadata": {}
        },
        {
          "output_type": "stream",
          "name": "stdout",
          "text": [
            "Uploaded fir-ml-9258b-firebase-adminsdk-391on-fe5321504b.json\n"
          ]
        }
      ]
    },
    {
      "cell_type": "markdown",
      "metadata": {
        "id": "HEVNf2rxwgfo"
      },
      "source": [
        "# **2. Set your Google Application Credentials location**"
      ]
    },
    {
      "cell_type": "markdown",
      "metadata": {
        "id": "39qaiVVqeA51"
      },
      "source": [
        "Set the `GOOGLE_APPLICATION_CREDENTIALS` environmental variable to the location of the key file:"
      ]
    },
    {
      "cell_type": "code",
      "metadata": {
        "id": "fdGKEWCH1SsT"
      },
      "source": [
        "import os\n",
        "os.environ[\"GOOGLE_APPLICATION_CREDENTIALS\"] = os.path.realpath(service_acct_file['name'])"
      ],
      "execution_count": null,
      "outputs": []
    },
    {
      "cell_type": "markdown",
      "metadata": {
        "id": "ma-McTrY0cGE"
      },
      "source": [
        "# **3. Initialize Firebase Admin**"
      ]
    },
    {
      "cell_type": "markdown",
      "metadata": {
        "id": "X9xyubP_ekA5"
      },
      "source": [
        "Import the `firebase_admin` module and initialize the SDK with the name of your Storage bucket. Be sure the Storage bucket is in the same Firebase project as your service account. Your project's default bucket looks like `your-project-id.appspot.com`."
      ]
    },
    {
      "cell_type": "code",
      "metadata": {
        "id": "2sLO335O7IIF",
        "colab": {
          "base_uri": "https://localhost:8080/"
        },
        "outputId": "c15e3fc3-c908-4f81-e767-fa759f329441"
      },
      "source": [
        "\n",
        "storage_bucket = input('Storage bucket (no \"gs://\"): ')"
      ],
      "execution_count": null,
      "outputs": [
        {
          "name": "stdout",
          "output_type": "stream",
          "text": [
            "Storage bucket (no \"gs://\"): fir-ml-9258b.appspot.com\n"
          ]
        }
      ]
    },
    {
      "cell_type": "code",
      "metadata": {
        "id": "YxYkdFBs0oS1",
        "colab": {
          "base_uri": "https://localhost:8080/"
        },
        "outputId": "c433e316-5b81-44ea-f868-bdd6cf476062"
      },
      "source": [
        "import firebase_admin\n",
        "from firebase_admin import ml\n",
        "\n",
        "firebase_admin.initialize_app(options={'storageBucket': storage_bucket})"
      ],
      "execution_count": null,
      "outputs": [
        {
          "output_type": "execute_result",
          "data": {
            "text/plain": [
              "<firebase_admin.App at 0x7f941fd63490>"
            ]
          },
          "metadata": {},
          "execution_count": 4
        }
      ]
    },
    {
      "cell_type": "markdown",
      "metadata": {
        "id": "DLOmPtM77wMI"
      },
      "source": [
        "# **4. Training the Machine Learning Dataset Generation**"
      ]
    },
    {
      "cell_type": "code",
      "metadata": {
        "id": "6lrYxa4Z70Xp"
      },
      "source": [
        "import numpy as np\n",
        "import pandas as pd\n",
        "\n",
        "# Generate random stowage data\n",
        "n_samples = 1000\n",
        "cargo_types = ['1', '2', '3', '4',] #1 is flamable, 2 is hazardous, 3 is refrigerated, 4 is normal\n",
        "destinations = [1, 2, 3, 4]\n",
        "data = pd.DataFrame({\n",
        "    'destinations': np.random.choice(destinations, n_samples),\n",
        "    'cargo_type': np.random.choice(cargo_types, n_samples),\n",
        "    'cargo_weight': np.random.randint(2000, 24000, n_samples),\n",
        "    'Location': np.zeros(n_samples)\n",
        "})\n",
        "\n",
        "# Define the function to calculate the coordinate based on cargo type and weight\n",
        "def calculate_coordinate(row):\n",
        "    if row['cargo_type'] == '4' and row['cargo_weight'] > 13000 and row['destinations'] > 3:\n",
        "        x = 2\n",
        "    elif row['cargo_type'] == '4' and row['cargo_weight'] < 13000 and row['destinations'] < 2:\n",
        "        x = 1\n",
        "    elif row['cargo_type'] != '4' and  row['cargo_weight'] < 13000 and row['destinations'] < 2:\n",
        "        x = 4\n",
        "    elif row['cargo_type'] == '4' or '3' and row['cargo_weight'] > 13000 and row['destinations'] > 3:\n",
        "        x = 3\n",
        "    else:\n",
        "        x = 0\n",
        "\n",
        "    row['Location'] = x\n",
        "    return row\n",
        "\n",
        "# Apply the function to the data\n",
        "data = data.apply(calculate_coordinate, axis=1)\n",
        "\n",
        "# Save the data to a CSV file\n",
        "data.to_csv('dummy_data.csv', index=False)"
      ],
      "execution_count": null,
      "outputs": []
    },
    {
      "cell_type": "code",
      "source": [
        "import pandas as pd\n",
        "from sklearn.ensemble import RandomForestClassifier\n",
        "from sklearn.model_selection import train_test_split\n",
        "from sklearn.metrics import accuracy_score\n",
        "import joblib\n",
        "\n",
        "# Load the dummy data from CSV file\n",
        "df = pd.read_csv(\"dummy_data.csv\")\n",
        "\n",
        "# Split the data into features and target\n",
        "X = data.iloc[:, 0:3].values\n",
        "y = data.iloc[:, 3].values\n",
        "\n",
        "# Split the data into training and testing sets\n",
        "X_train, X_test, y_train, y_test = train_test_split(X, y, test_size=0.2, random_state=42)\n",
        "\n",
        "# Create and train the random forest classifier\n",
        "rfc = RandomForestClassifier(n_estimators=1000, random_state=42)\n",
        "rfc.fit(X_train, y_train)\n",
        "\n",
        "# Make predictions on the testing set\n",
        "y_pred = rfc.predict(X_test)\n",
        "\n",
        "# Calculate the accuracy of the model\n",
        "accuracy = accuracy_score(y_test, y_pred)\n",
        "print(\"Accuracy:\", accuracy)\n",
        "\n",
        "# Save the trained model using joblib\n",
        "joblib.dump(rfc, \"rfc_model.joblib\")"
      ],
      "metadata": {
        "id": "VCg-S1GDxY4d",
        "colab": {
          "base_uri": "https://localhost:8080/"
        },
        "outputId": "461660a7-6f55-42e3-8c7f-185a72d99561"
      },
      "execution_count": null,
      "outputs": [
        {
          "output_type": "stream",
          "name": "stdout",
          "text": [
            "Accuracy: 1.0\n"
          ]
        },
        {
          "output_type": "execute_result",
          "data": {
            "text/plain": [
              "['rfc_model.joblib']"
            ]
          },
          "metadata": {},
          "execution_count": 6
        }
      ]
    },
    {
      "cell_type": "code",
      "source": [
        "from sklearn.metrics import confusion_matrix\n",
        "import matplotlib.pyplot as plt\n",
        "import seaborn as sns\n",
        "sns.set()\n",
        "\n",
        "# Filter true labels and predicted labels to exclude instances with value 0\n",
        "y_test_filtered = y_test[y_test != 0]\n",
        "y_pred_filtered = y_pred[y_test != 0]\n",
        "\n",
        "# Create the confusion matrix for the filtered data\n",
        "mat = confusion_matrix(y_test_filtered, y_pred_filtered)\n",
        "\n",
        "# Plot the confusion matrix heatmap\n",
        "sns.heatmap(mat.T, square=True, annot=True, fmt='d', cbar=False)\n",
        "plt.xlabel('True Label')\n",
        "plt.ylabel('Predicted Label')\n",
        "plt.show()\n"
      ],
      "metadata": {
        "colab": {
          "base_uri": "https://localhost:8080/",
          "height": 458
        },
        "id": "XtNX-t-uI8hx",
        "outputId": "7ff577e8-a55a-470c-99b5-c2d2312a2ae1"
      },
      "execution_count": null,
      "outputs": [
        {
          "output_type": "display_data",
          "data": {
            "text/plain": [
              "<Figure size 640x480 with 1 Axes>"
            ],
            "image/png": "[encoded data removed]"
          },
          "metadata": {}
        }
      ]
    },
    {
      "cell_type": "code",
      "source": [
        "import matplotlib.pyplot as plt\n",
        "# Filter true labels and predicted labels to exclude instances with value 0\n",
        "y_test_filtered = y_test[y_test != 0]\n",
        "y_pred_filtered = y_pred[y_test != 0]\n",
        "\n",
        "plt.scatter(y_test_filtered, y_pred_filtered)\n",
        "plt.xlabel('True Values')\n",
        "plt.ylabel('Predictions')\n",
        "plt.show()"
      ],
      "metadata": {
        "colab": {
          "base_uri": "https://localhost:8080/",
          "height": 458
        },
        "id": "u02zHVz1Jzcb",
        "outputId": "6c36474a-8f28-414a-cf81-58e0500a46ad"
      },
      "execution_count": null,
      "outputs": [
        {
          "output_type": "display_data",
          "data": {
            "text/plain": [
              "<Figure size 640x480 with 1 Axes>"
            ],
            "image/png": "[encoded data removed]"
          },
          "metadata": {}
        }
      ]
    },
    {
      "cell_type": "markdown",
      "metadata": {
        "id": "RRA56_U9o2P9"
      },
      "source": [
        "# **5. Generate Random Container Data**"
      ]
    },
    {
      "cell_type": "code",
      "source": [
        "import numpy as np\n",
        "import pandas as pd\n",
        "import firebase_admin\n",
        "from firebase_admin import credentials\n",
        "from firebase_admin import firestore\n",
        "\n",
        "\n",
        "# # Load the trained random forest classifier from a joblib file\n",
        "rfc_model = joblib.load(\"rfc_model.joblib\")\n",
        "\n",
        "# # Generate random stowage data\n",
        "n_samples = 1000\n",
        "cargo_types = ['1', '2', '3', '4',]\n",
        "destinations = [1, 2, 3, 4]\n",
        "data = pd.DataFrame({\n",
        "    'id': np.arange(n_samples),\n",
        "    'destinations': np.random.choice(destinations, n_samples),\n",
        "    'cargo_type': np.random.choice(cargo_types, n_samples),\n",
        "    'cargo_weight': np.random.randint(2000, 24000, n_samples),\n",
        "    'Location': np.zeros(n_samples)\n",
        "})\n",
        "\n",
        "# # Save the data to a CSV file\n",
        "data.to_csv('data2.csv', index=False)\n",
        "\n",
        "# # Read data from CSV file\n",
        "data = pd.read_csv('data2.csv')\n",
        "\n",
        "# # # Extract relevant columns and convert to numpy array\n",
        "matrix2 = data[['destinations', 'cargo_type', 'cargo_weight']].to_numpy()"
      ],
      "metadata": {
        "id": "7e2FvDyuYy4l"
      },
      "execution_count": null,
      "outputs": []
    },
    {
      "cell_type": "code",
      "source": [
        "# Store the results in Firestore\n",
        "db = firestore.client()\n",
        "for i in range(len(data)):\n",
        "    doc_ref = db.collection(u'containers').document(u'containers{}'.format(i))\n",
        "    doc_ref.set({\n",
        "        u'id': int(data['id'][i]),\n",
        "        u'destinations': int(data['destinations'][i]),\n",
        "        u'cargo_type': str(data['cargo_type'][i]),\n",
        "        u'cargo_weight': int(data['cargo_weight'][i]),\n",
        "    })"
      ],
      "metadata": {
        "id": "jMXyRe0WgvWX"
      },
      "execution_count": null,
      "outputs": []
    },
    {
      "cell_type": "code",
      "source": [
        "!pip install qrcode\n"
      ],
      "metadata": {
        "colab": {
          "base_uri": "https://localhost:8080/"
        },
        "id": "63_X77J4gc6a",
        "outputId": "c81e97ce-d162-4ab5-c001-2844ef4c1c0d"
      },
      "execution_count": null,
      "outputs": [
        {
          "output_type": "stream",
          "name": "stdout",
          "text": [
            "Collecting qrcode\n",
            "  Downloading qrcode-7.4.2-py3-none-any.whl (46 kB)\n",
            "\u001b[?25l     \u001b[90m━━━━━━━━━━━━━━━━━━━━━━━━━━━━━━━━━━━━━━━━\u001b[0m \u001b[32m0.0/46.2 kB\u001b[0m \u001b[31m?\u001b[0m eta \u001b[36m-:--:--\u001b[0m\r\u001b[2K     \u001b[90m━━━━━━━━━━━━━━━━━━━━━━━━━━━━━━━━━━━━━━━━\u001b[0m \u001b[32m46.2/46.2 kB\u001b[0m \u001b[31m4.9 MB/s\u001b[0m eta \u001b[36m0:00:00\u001b[0m\n",
            "\u001b[?25hRequirement already satisfied: typing-extensions in /usr/local/lib/python3.10/dist-packages (from qrcode) (4.6.3)\n",
            "Collecting pypng (from qrcode)\n",
            "  Downloading pypng-0.20220715.0-py3-none-any.whl (58 kB)\n",
            "\u001b[?25l     \u001b[90m━━━━━━━━━━━━━━━━━━━━━━━━━━━━━━━━━━━━━━━━\u001b[0m \u001b[32m0.0/58.1 kB\u001b[0m \u001b[31m?\u001b[0m eta \u001b[36m-:--:--\u001b[0m\r\u001b[2K     \u001b[90m━━━━━━━━━━━━━━━━━━━━━━━━━━━━━━━━━━━━━━━━\u001b[0m \u001b[32m58.1/58.1 kB\u001b[0m \u001b[31m7.0 MB/s\u001b[0m eta \u001b[36m0:00:00\u001b[0m\n",
            "\u001b[?25hInstalling collected packages: pypng, qrcode\n",
            "Successfully installed pypng-0.20220715.0 qrcode-7.4.2\n"
          ]
        }
      ]
    },
    {
      "cell_type": "code",
      "source": [
        "import qrcode\n",
        "import firebase_admin\n",
        "from firebase_admin import credentials\n",
        "from firebase_admin import firestore\n",
        "\n",
        "\n",
        "db = firestore.client()\n",
        "\n",
        "# Define the list of document IDs to generate QR codes for\n",
        "document_ids = [\"containers744\", \"containers86\",\n",
        "                \"containers244\", \"containers43\",\n",
        "                \"containers902\", \"containers934\",\n",
        "                \"containers259\", \"containers510\",\n",
        "                \"containers207\", \"containers487\",\n",
        "                \"containers36\", \"containers527\",\n",
        "                \"containers312\", \"containers664\",\n",
        "                \"containers504\"]  # Add your desired document IDs here\n",
        "\n",
        "# Generate QR code for each document ID\n",
        "for document_id in document_ids:\n",
        "    # Create a reference to the document\n",
        "    doc_ref = db.collection(\"containers\").document(document_id)\n",
        "\n",
        "    # Retrieve the document data\n",
        "    document = doc_ref.get()\n",
        "\n",
        "    # Check if the document exists\n",
        "    if document.exists:\n",
        "        # Create a QR code instance\n",
        "        qr = qrcode.QRCode(\n",
        "            version=1,\n",
        "            error_correction=qrcode.constants.ERROR_CORRECT_L,\n",
        "            box_size=10,\n",
        "            border=4,\n",
        "        )\n",
        "\n",
        "        # Add data to the QR code\n",
        "        qr.add_data(document_id)\n",
        "\n",
        "        # Make the QR code image\n",
        "        qr.make(fit=True)\n",
        "\n",
        "        # Get the QR code image as a PIL Image object\n",
        "        qr_image = qr.make_image(fill_color=\"black\", back_color=\"white\")\n",
        "        qr_image.save(f\"qr_code_{document_id}.png\")\n",
        "\n",
        "        # Display the QR code image\n",
        "        qr_image.show()\n",
        "    else:\n",
        "        print(f\"Document with ID '{document_id}' does not exist in Firestore.\")"
      ],
      "metadata": {
        "id": "4zPmTWEoYSQk",
        "outputId": "f1d1374f-1a10-47a9-f9d4-13cb04eb7745",
        "colab": {
          "base_uri": "https://localhost:8080/",
          "height": 1000
        }
      },
      "execution_count": null,
      "outputs": [
        {
          "output_type": "display_data",
          "data": {
            "text/plain": [
              "<PIL.Image.Image image mode=1 size=290x290 at 0x7F9387C0A1A0>"
            ],
            "image/png": "[encoded data removed]"
          },
          "metadata": {}
        },
        {
          "output_type": "display_data",
          "data": {
            "text/plain": [
              "<PIL.Image.Image image mode=1 size=290x290 at 0x7F939BB56B60>"
            ],
            "image/png": "[encoded data removed]"
          },
          "metadata": {}
        },
        {
          "output_type": "display_data",
          "data": {
            "text/plain": [
              "<PIL.Image.Image image mode=1 size=290x290 at 0x7F938597D6C0>"
            ],
            "image/png": "[encoded data removed]"
          },
          "metadata": {}
        },
        {
          "output_type": "display_data",
          "data": {
            "text/plain": [
              "<PIL.Image.Image image mode=1 size=290x290 at 0x7F9387C0BC40>"
            ],
            "image/png": "[encoded data removed]"
          },
          "metadata": {}
        },
        {
          "output_type": "display_data",
          "data": {
            "text/plain": [
              "<PIL.Image.Image image mode=1 size=290x290 at 0x7F9387C0ACE0>"
            ],
            "image/png": "[encoded data removed]"
          },
          "metadata": {}
        },
        {
          "output_type": "display_data",
          "data": {
            "text/plain": [
              "<PIL.Image.Image image mode=1 size=290x290 at 0x7F9387C0AD10>"
            ],
            "image/png": "[encoded data removed]"
          },
          "metadata": {}
        },
        {
          "output_type": "display_data",
          "data": {
            "text/plain": [
              "<PIL.Image.Image image mode=1 size=290x290 at 0x7F9387C0ACE0>"
            ],
            "image/png": "[encoded data removed]"
          },
          "metadata": {}
        },
        {
          "output_type": "display_data",
          "data": {
            "text/plain": [
              "<PIL.Image.Image image mode=1 size=290x290 at 0x7F938597D810>"
            ],
            "image/png": "[encoded data removed]"
          },
          "metadata": {}
        },
        {
          "output_type": "display_data",
          "data": {
            "text/plain": [
              "<PIL.Image.Image image mode=1 size=290x290 at 0x7F939BB56B60>"
            ],
            "image/png": "[encoded data removed]"
          },
          "metadata": {}
        },
        {
          "output_type": "display_data",
          "data": {
            "text/plain": [
              "<PIL.Image.Image image mode=1 size=290x290 at 0x7F939D80C6D0>"
            ],
            "image/png": "[encoded data removed]"
          },
          "metadata": {}
        },
        {
          "output_type": "display_data",
          "data": {
            "text/plain": [
              "<PIL.Image.Image image mode=1 size=290x290 at 0x7F938597E110>"
            ],
            "image/png": "[encoded data removed]"
          },
          "metadata": {}
        },
        {
          "output_type": "display_data",
          "data": {
            "text/plain": [
              "<PIL.Image.Image image mode=1 size=290x290 at 0x7F9387C0AD10>"
            ],
            "image/png": "[encoded data removed]"
          },
          "metadata": {}
        },
        {
          "output_type": "display_data",
          "data": {
            "text/plain": [
              "<PIL.Image.Image image mode=1 size=290x290 at 0x7F9387C0A290>"
            ],
            "image/png": "[encoded data removed]"
          },
          "metadata": {}
        },
        {
          "output_type": "display_data",
          "data": {
            "text/plain": [
              "<PIL.Image.Image image mode=1 size=290x290 at 0x7F938597D7B0>"
            ],
            "image/png": "[encoded data removed]"
          },
          "metadata": {}
        },
        {
          "output_type": "display_data",
          "data": {
            "text/plain": [
              "<PIL.Image.Image image mode=1 size=290x290 at 0x7F9387C0AAD0>"
            ],
            "image/png": "[encoded data removed]"
          },
          "metadata": {}
        }
      ]
    },
    {
      "cell_type": "markdown",
      "source": [
        "Jeni"
      ],
      "metadata": {
        "id": "Ugwb9d9uUQg6"
      }
    },
    {
      "cell_type": "code",
      "source": [
        "import firebase_admin\n",
        "from firebase_admin import credentials\n",
        "from firebase_admin import firestore\n",
        "\n",
        "# Reference to Firestore database\n",
        "db = firestore.client()\n",
        "\n",
        "# Retrieve data from Firestore\n",
        "collection_ref = db.collection('sample')  # Replace 'your_collection' with your actual collection name\n",
        "\n",
        "# Query documents in the collection\n",
        "documents = collection_ref.get()\n",
        "\n",
        "# Iterate over the documents and print their data\n",
        "for document in documents:\n",
        "    document_data = document.to_dict()\n",
        "    print(document_data)\n"
      ],
      "metadata": {
        "id": "_rUds7nqmY4Q",
        "colab": {
          "base_uri": "https://localhost:8080/"
        },
        "outputId": "34a71104-97d8-43e6-b970-59c05af6e90f"
      },
      "execution_count": null,
      "outputs": [
        {
          "output_type": "stream",
          "name": "stdout",
          "text": [
            "{'message': [{'cargo_type': '4', 'destinations': 1, 'title': 'containers744', 'id': 744, 'location': 0, 'cargo_weight': 10081}, {'id': 86, 'destinations': 1, 'title': 'containers86', 'cargo_type': '4', 'cargo_weight': 9895, 'location': 0}, {'cargo_type': '4', 'id': 902, 'cargo_weight': 17545, 'title': 'containers902', 'destinations': 4, 'location': 0}, {'destinations': 4, 'cargo_type': '4', 'title': 'containers934', 'cargo_weight': 15040, 'location': 0, 'id': 934}, {'location': 0, 'destinations': 2, 'cargo_type': '4', 'title': 'containers207', 'cargo_weight': 6377, 'id': 207}, {'cargo_weight': 14715, 'location': 0, 'title': 'containers487', 'destinations': 4, 'id': 487, 'cargo_type': '1'}, {'cargo_weight': 5529, 'cargo_type': '1', 'title': 'containers312', 'location': 0, 'destinations': 1, 'id': 312}, {'title': 'containers664', 'cargo_weight': 12304, 'destinations': 1, 'location': 0, 'cargo_type': '2', 'id': 664}]}\n"
          ]
        }
      ]
    },
    {
      "cell_type": "code",
      "source": [
        "import numpy as np\n",
        "import pandas as pd\n",
        "\n",
        "\n",
        "df = pd.DataFrame(document_data)\n",
        "\n",
        "data_sample = pd.DataFrame(df['message'].values.tolist())\n",
        "# Extract the list of dictionaries from the 'message' key\n",
        "message_list = document_data['message']\n",
        "\n",
        "\n",
        "matrix = data_sample[['destinations', 'cargo_type', 'cargo_weight']].to_numpy()\n",
        "print(matrix)\n",
        "print(data_sample)"
      ],
      "metadata": {
        "colab": {
          "base_uri": "https://localhost:8080/"
        },
        "id": "wKdGuQj6vHOB",
        "outputId": "965d0b6f-fb6b-4037-c90d-ed1e1cb30f66"
      },
      "execution_count": null,
      "outputs": [
        {
          "output_type": "stream",
          "name": "stdout",
          "text": [
            "[[1 '4' 10081]\n",
            " [1 '4' 9895]\n",
            " [4 '4' 17545]\n",
            " [4 '4' 15040]\n",
            " [2 '4' 6377]\n",
            " [4 '1' 14715]\n",
            " [1 '1' 5529]\n",
            " [1 '2' 12304]]\n",
            "  cargo_type  destinations          title   id  location  cargo_weight\n",
            "0          4             1  containers744  744         0         10081\n",
            "1          4             1   containers86   86         0          9895\n",
            "2          4             4  containers902  902         0         17545\n",
            "3          4             4  containers934  934         0         15040\n",
            "4          4             2  containers207  207         0          6377\n",
            "5          1             4  containers487  487         0         14715\n",
            "6          1             1  containers312  312         0          5529\n",
            "7          2             1  containers664  664         0         12304\n"
          ]
        }
      ]
    },
    {
      "cell_type": "code",
      "source": [
        " rfc_model = joblib.load(\"rfc_model.joblib\")\n",
        " testrun3 = rfc_model.predict(matrix)\n",
        " testrun3"
      ],
      "metadata": {
        "colab": {
          "base_uri": "https://localhost:8080/"
        },
        "id": "rIGb4UehrTRe",
        "outputId": "2e75b444-08bf-4fac-bdba-47ca573f8493"
      },
      "execution_count": null,
      "outputs": [
        {
          "output_type": "execute_result",
          "data": {
            "text/plain": [
              "array([1, 1, 2, 2, 3, 3, 4, 4])"
            ]
          },
          "metadata": {},
          "execution_count": 15
        }
      ]
    },
    {
      "cell_type": "code",
      "source": [
        "# Create a new DataFrame with the predicted locations and IDs\n",
        "results_pd = pd.DataFrame({\n",
        "    'id': data_sample['id'],\n",
        "    'destinations': data_sample['destinations'],\n",
        "    'cargo_type': data_sample['cargo_type'],\n",
        "    'cargo_weight': data_sample['cargo_weight'],\n",
        "    'Location': testrun3\n",
        "})\n",
        "\n",
        "# Save the results to a CSV file\n",
        "results_pd.to_csv('results.csv', index=False)"
      ],
      "metadata": {
        "id": "FpBLz3x4jk0R"
      },
      "execution_count": null,
      "outputs": []
    },
    {
      "cell_type": "code",
      "source": [
        "results_pd"
      ],
      "metadata": {
        "colab": {
          "base_uri": "https://localhost:8080/",
          "height": 300
        },
        "id": "gLYewYD6KzaX",
        "outputId": "7cc91fa7-68c8-40d0-c501-3d2508dfb2ec"
      },
      "execution_count": null,
      "outputs": [
        {
          "output_type": "execute_result",
          "data": {
            "text/plain": [
              "    id  destinations cargo_type  cargo_weight  Location\n",
              "0  744             1          4         10081         1\n",
              "1   86             1          4          9895         1\n",
              "2  902             4          4         17545         2\n",
              "3  934             4          4         15040         2\n",
              "4  207             2          4          6377         3\n",
              "5  487             4          1         14715         3\n",
              "6  312             1          1          5529         4\n",
              "7  664             1          2         12304         4"
            ],
            "text/html": [
              "\n",
              "  <div id=\"df-9c2c0304-728c-4abe-b630-75c528a2ab08\">\n",
              "    <div class=\"colab-df-container\">\n",
              "      <div>\n",
              "<style scoped>\n",
              "    .dataframe tbody tr th:only-of-type {\n",
              "        vertical-align: middle;\n",
              "    }\n",
              "\n",
              "    .dataframe tbody tr th {\n",
              "        vertical-align: top;\n",
              "    }\n",
              "\n",
              "    .dataframe thead th {\n",
              "        text-align: right;\n",
              "    }\n",
              "</style>\n",
              "<table border=\"1\" class=\"dataframe\">\n",
              "  <thead>\n",
              "    <tr style=\"text-align: right;\">\n",
              "      <th></th>\n",
              "      <th>id</th>\n",
              "      <th>destinations</th>\n",
              "      <th>cargo_type</th>\n",
              "      <th>cargo_weight</th>\n",
              "      <th>Location</th>\n",
              "    </tr>\n",
              "  </thead>\n",
              "  <tbody>\n",
              "    <tr>\n",
              "      <th>0</th>\n",
              "      <td>744</td>\n",
              "      <td>1</td>\n",
              "      <td>4</td>\n",
              "      <td>10081</td>\n",
              "      <td>1</td>\n",
              "    </tr>\n",
              "    <tr>\n",
              "      <th>1</th>\n",
              "      <td>86</td>\n",
              "      <td>1</td>\n",
              "      <td>4</td>\n",
              "      <td>9895</td>\n",
              "      <td>1</td>\n",
              "    </tr>\n",
              "    <tr>\n",
              "      <th>2</th>\n",
              "      <td>902</td>\n",
              "      <td>4</td>\n",
              "      <td>4</td>\n",
              "      <td>17545</td>\n",
              "      <td>2</td>\n",
              "    </tr>\n",
              "    <tr>\n",
              "      <th>3</th>\n",
              "      <td>934</td>\n",
              "      <td>4</td>\n",
              "      <td>4</td>\n",
              "      <td>15040</td>\n",
              "      <td>2</td>\n",
              "    </tr>\n",
              "    <tr>\n",
              "      <th>4</th>\n",
              "      <td>207</td>\n",
              "      <td>2</td>\n",
              "      <td>4</td>\n",
              "      <td>6377</td>\n",
              "      <td>3</td>\n",
              "    </tr>\n",
              "    <tr>\n",
              "      <th>5</th>\n",
              "      <td>487</td>\n",
              "      <td>4</td>\n",
              "      <td>1</td>\n",
              "      <td>14715</td>\n",
              "      <td>3</td>\n",
              "    </tr>\n",
              "    <tr>\n",
              "      <th>6</th>\n",
              "      <td>312</td>\n",
              "      <td>1</td>\n",
              "      <td>1</td>\n",
              "      <td>5529</td>\n",
              "      <td>4</td>\n",
              "    </tr>\n",
              "    <tr>\n",
              "      <th>7</th>\n",
              "      <td>664</td>\n",
              "      <td>1</td>\n",
              "      <td>2</td>\n",
              "      <td>12304</td>\n",
              "      <td>4</td>\n",
              "    </tr>\n",
              "  </tbody>\n",
              "</table>\n",
              "</div>\n",
              "      <button class=\"colab-df-convert\" onclick=\"convertToInteractive('df-9c2c0304-728c-4abe-b630-75c528a2ab08')\"\n",
              "              title=\"Convert this dataframe to an interactive table.\"\n",
              "              style=\"display:none;\">\n",
              "        \n",
              "  <svg xmlns=\"http://www.w3.org/2000/svg\" height=\"24px\"viewBox=\"0 0 24 24\"\n",
              "       width=\"24px\">\n",
              "    <path d=\"M0 0h24v24H0V0z\" fill=\"none\"/>\n",
              "    <path d=\"M18.56 5.44l.94 2.06.94-2.06 2.06-.94-2.06-.94-.94-2.06-.94 2.06-2.06.94zm-11 1L8.5 8.5l.94-2.06 2.06-.94-2.06-.94L8.5 2.5l-.94 2.06-2.06.94zm10 10l.94 2.06.94-2.06 2.06-.94-2.06-.94-.94-2.06-.94 2.06-2.06.94z\"/><path d=\"M17.41 7.96l-1.37-1.37c-.4-.4-.92-.59-1.43-.59-.52 0-1.04.2-1.43.59L10.3 9.45l-7.72 7.72c-.78.78-.78 2.05 0 2.83L4 21.41c.39.39.9.59 1.41.59.51 0 1.02-.2 1.41-.59l7.78-7.78 2.81-2.81c.8-.78.8-2.07 0-2.86zM5.41 20L4 18.59l7.72-7.72 1.47 1.35L5.41 20z\"/>\n",
              "  </svg>\n",
              "      </button>\n",
              "      \n",
              "  <style>\n",
              "    .colab-df-container {\n",
              "      display:flex;\n",
              "      flex-wrap:wrap;\n",
              "      gap: 12px;\n",
              "    }\n",
              "\n",
              "    .colab-df-convert {\n",
              "      background-color: #E8F0FE;\n",
              "      border: none;\n",
              "      border-radius: 50%;\n",
              "      cursor: pointer;\n",
              "      display: none;\n",
              "      fill: #1967D2;\n",
              "      height: 32px;\n",
              "      padding: 0 0 0 0;\n",
              "      width: 32px;\n",
              "    }\n",
              "\n",
              "    .colab-df-convert:hover {\n",
              "      background-color: #E2EBFA;\n",
              "      box-shadow: 0px 1px 2px rgba(60, 64, 67, 0.3), 0px 1px 3px 1px rgba(60, 64, 67, 0.15);\n",
              "      fill: #174EA6;\n",
              "    }\n",
              "\n",
              "    [theme=dark] .colab-df-convert {\n",
              "      background-color: #3B4455;\n",
              "      fill: #D2E3FC;\n",
              "    }\n",
              "\n",
              "    [theme=dark] .colab-df-convert:hover {\n",
              "      background-color: #434B5C;\n",
              "      box-shadow: 0px 1px 3px 1px rgba(0, 0, 0, 0.15);\n",
              "      filter: drop-shadow(0px 1px 2px rgba(0, 0, 0, 0.3));\n",
              "      fill: #FFFFFF;\n",
              "    }\n",
              "  </style>\n",
              "\n",
              "      <script>\n",
              "        const buttonEl =\n",
              "          document.querySelector('#df-9c2c0304-728c-4abe-b630-75c528a2ab08 button.colab-df-convert');\n",
              "        buttonEl.style.display =\n",
              "          google.colab.kernel.accessAllowed ? 'block' : 'none';\n",
              "\n",
              "        async function convertToInteractive(key) {\n",
              "          const element = document.querySelector('#df-9c2c0304-728c-4abe-b630-75c528a2ab08');\n",
              "          const dataTable =\n",
              "            await google.colab.kernel.invokeFunction('convertToInteractive',\n",
              "                                                     [key], {});\n",
              "          if (!dataTable) return;\n",
              "\n",
              "          const docLinkHtml = 'Like what you see? Visit the ' +\n",
              "            '<a target=\"_blank\" href=https://colab.research.google.com/notebooks/data_table.ipynb>data table notebook</a>'\n",
              "            + ' to learn more about interactive tables.';\n",
              "          element.innerHTML = '';\n",
              "          dataTable['output_type'] = 'display_data';\n",
              "          await google.colab.output.renderOutput(dataTable, element);\n",
              "          const docLink = document.createElement('div');\n",
              "          docLink.innerHTML = docLinkHtml;\n",
              "          element.appendChild(docLink);\n",
              "        }\n",
              "      </script>\n",
              "    </div>\n",
              "  </div>\n",
              "  "
            ]
          },
          "metadata": {},
          "execution_count": 17
        }
      ]
    },
    {
      "cell_type": "code",
      "source": [
        "matrix_data = pd.read_csv('results.csv')\n",
        "data = matrix_data.values\n",
        "data\n",
        "sum_val = 50000"
      ],
      "metadata": {
        "id": "OSkQUxBakzLI"
      },
      "execution_count": null,
      "outputs": []
    },
    {
      "cell_type": "code",
      "source": [
        "data =  np.save('results_modified.npy', data)"
      ],
      "metadata": {
        "id": "ukwKr6VAnziD"
      },
      "execution_count": null,
      "outputs": []
    },
    {
      "cell_type": "code",
      "source": [
        "def execute_prediction(data, sum_val):\n",
        "    # Assuming the data is already loaded into a numpy array called matrix\n",
        "    data = np.load('results_modified.npy')\n",
        "\n",
        "    selected_containers = None\n",
        "    selected_ids = []\n",
        "    while selected_containers is None:\n",
        "        loc_1 = data[data[:, 4] == 1, :]\n",
        "        loc_2 = data[data[:, 4] == 2, :]\n",
        "        loc_3 = data[data[:, 4] == 3, :]\n",
        "        loc_4 = data[data[:, 4] == 4, :]\n",
        "        loc_1 = loc_1[np.random.choice(loc_1.shape[0], 1), :]\n",
        "        loc_2 = loc_2[np.random.choice(loc_2.shape[0], 1), :]\n",
        "        loc_3 = loc_3[np.random.choice(loc_3.shape[0], 1), :]\n",
        "        loc_4 = loc_4[np.random.choice(loc_4.shape[0], 1), :]\n",
        "\n",
        "\n",
        "        total_weight = loc_1[:, 3] + loc_2[:, 3] + loc_3[:, 3] + loc_4[:, 3]\n",
        "        if total_weight == sum_val + 1000 or sum_val - 1000:\n",
        "          selected_containers = np.concatenate((loc_1, loc_2, loc_3, loc_4), axis=0)\n",
        "\n",
        "    # Remove the selected rows from the data\n",
        "    selected_ids.extend(selected_containers[:, 0].tolist())\n",
        "    data = data[~np.isin(data[:, 0], selected_ids), :]\n",
        "\n",
        "    # Put the selected containers into a matrix\n",
        "    tier = selected_containers[:, [0, 1, 2, 3, 4]]\n",
        "\n",
        "    # Save the modified data to a numpy array\n",
        "    np.save('results_modified.npy', data)\n",
        "\n",
        "\n",
        "    return tier\n"
      ],
      "metadata": {
        "id": "d6OtaepDrkk6"
      },
      "execution_count": null,
      "outputs": []
    },
    {
      "cell_type": "code",
      "source": [
        "#how many tiers do you want?\n",
        "y = 1\n",
        "loop = y*2\n",
        "results = []\n",
        "for i in range(loop):\n",
        "    results.append(execute_prediction(data, sum_val))"
      ],
      "metadata": {
        "id": "LSY-qIRsrnCU"
      },
      "execution_count": null,
      "outputs": []
    },
    {
      "cell_type": "code",
      "source": [
        "results"
      ],
      "metadata": {
        "colab": {
          "base_uri": "https://localhost:8080/"
        },
        "id": "Kc9YB1xJu8t7",
        "outputId": "7e101fb3-c69f-4354-d6a0-0b0bc6307918"
      },
      "execution_count": null,
      "outputs": [
        {
          "output_type": "execute_result",
          "data": {
            "text/plain": [
              "[array([[  744,     1,     4, 10081,     1],\n",
              "        [  934,     4,     4, 15040,     2],\n",
              "        [  207,     2,     4,  6377,     3],\n",
              "        [  664,     1,     2, 12304,     4]]),\n",
              " array([[   86,     1,     4,  9895,     1],\n",
              "        [  902,     4,     4, 17545,     2],\n",
              "        [  487,     4,     1, 14715,     3],\n",
              "        [  312,     1,     1,  5529,     4]])]"
            ]
          },
          "metadata": {},
          "execution_count": 22
        }
      ]
    },
    {
      "cell_type": "code",
      "source": [
        "for i, matrix in enumerate(results):\n",
        "    if i % 2 == 1:\n",
        "        matrix[0,4] = 5\n",
        "        matrix[1,4] = 6\n",
        "        matrix[2,4] = 7\n",
        "        matrix[3,4] = 8"
      ],
      "metadata": {
        "id": "LoB2BLH3vDVl"
      },
      "execution_count": null,
      "outputs": []
    },
    {
      "cell_type": "code",
      "source": [
        "results"
      ],
      "metadata": {
        "colab": {
          "base_uri": "https://localhost:8080/"
        },
        "id": "CGZhdExOvGRY",
        "outputId": "f7394de0-dbb5-4c42-b5a4-5c9cabb7790b"
      },
      "execution_count": null,
      "outputs": [
        {
          "output_type": "execute_result",
          "data": {
            "text/plain": [
              "[array([[  744,     1,     4, 10081,     1],\n",
              "        [  934,     4,     4, 15040,     2],\n",
              "        [  207,     2,     4,  6377,     3],\n",
              "        [  664,     1,     2, 12304,     4]]),\n",
              " array([[   86,     1,     4,  9895,     5],\n",
              "        [  902,     4,     4, 17545,     6],\n",
              "        [  487,     4,     1, 14715,     7],\n",
              "        [  312,     1,     1,  5529,     8]])]"
            ]
          },
          "metadata": {},
          "execution_count": 24
        }
      ]
    },
    {
      "cell_type": "code",
      "source": [
        "  import qrcode\n",
        "  import io\n",
        "  from google.cloud import storage\n",
        "\n",
        "  # Initialize Firebase Storage client\n",
        "  storage_client = storage.Client()\n",
        "\n",
        "  # Store the results in Firestore and Firebase Storage\n",
        "  db = firestore.client()\n",
        "  bucket = storage_client.get_bucket('fir-ml-9258b.appspot.com')\n",
        "\n",
        "  for i, result in enumerate(results):\n",
        "      for j, container in enumerate(result):\n",
        "          container_id = int(container[0])\n",
        "          doc_name = u'containers{}'.format(container_id)\n",
        "          doc_ref = db.collection(u'results').document(doc_name)\n",
        "          qr_code_data = doc_name  # Set the QR code data as the document name\n",
        "\n",
        "          # Generate the QR code image\n",
        "          qr_code = qrcode.make(qr_code_data)\n",
        "\n",
        "          # Create a BytesIO object to store the QR code image\n",
        "          qr_code_buffer = io.BytesIO()\n",
        "          qr_code.save(qr_code_buffer)\n",
        "          qr_code_buffer.seek(0)\n",
        "\n",
        "          # Upload the QR code image to Firebase Storage\n",
        "          qr_code_filename = f'{doc_name}.png'\n",
        "          blob = bucket.blob(qr_code_filename)\n",
        "          blob.upload_from_file(qr_code_buffer, content_type='image/png')\n",
        "\n",
        "          # Get the public URL of the uploaded QR code image\n",
        "          qr_code_url = blob.public_url\n",
        "\n",
        "          # Store the results in Firestore\n",
        "          doc_ref.set({\n",
        "              u'id': container_id,\n",
        "              u'destinations': int(container[1]),\n",
        "              u'cargo_type': str(container[2]),\n",
        "              u'cargo_weight': int(container[3]),\n",
        "              u'location': int(container[4]),\n",
        "          })\n",
        "\n",
        "          print(\"QR Code URL:\", qr_code_url)\n"
      ],
      "metadata": {
        "id": "3WXk-BHwoerf",
        "colab": {
          "base_uri": "https://localhost:8080/"
        },
        "outputId": "22ed53c8-2bde-473b-e11d-8d251114a650"
      },
      "execution_count": null,
      "outputs": [
        {
          "output_type": "stream",
          "name": "stdout",
          "text": [
            "QR Code URL: https://storage.googleapis.com/fir-ml-9258b.appspot.com/containers744.png\n",
            "QR Code URL: https://storage.googleapis.com/fir-ml-9258b.appspot.com/containers934.png\n",
            "QR Code URL: https://storage.googleapis.com/fir-ml-9258b.appspot.com/containers207.png\n",
            "QR Code URL: https://storage.googleapis.com/fir-ml-9258b.appspot.com/containers664.png\n",
            "QR Code URL: https://storage.googleapis.com/fir-ml-9258b.appspot.com/containers86.png\n",
            "QR Code URL: https://storage.googleapis.com/fir-ml-9258b.appspot.com/containers902.png\n",
            "QR Code URL: https://storage.googleapis.com/fir-ml-9258b.appspot.com/containers487.png\n",
            "QR Code URL: https://storage.googleapis.com/fir-ml-9258b.appspot.com/containers312.png\n"
          ]
        }
      ]
    },
    {
      "cell_type": "code",
      "source": [
        "import matplotlib.pyplot as plt\n",
        "import numpy as np\n",
        "from matplotlib.gridspec import GridSpec\n",
        "from itertools import cycle\n",
        "\n",
        "# this is to take the data from a dataframe\n",
        "# colors = df['color'].to_numpy()\n",
        "# colors =cycle(colors)\n",
        "\n",
        "# Define the colors of the boxes\n",
        "colors = cycle(['red', 'green', 'blue', 'navy', 'orange', 'purple', 'pink', 'brown'])\n",
        "id = cycle(['1','2','6','5','4','3','7','8',])\n",
        "\n",
        "# Create a 4x3 grid of subplots using GridSpec\n",
        "fig = plt.figure(figsize=(6, 6))\n",
        "gs = GridSpec(nrows=4, ncols=4, figure=fig)\n",
        "\n",
        "# Iterate over each subplot\n",
        "for i, (row, col) in enumerate([(0, 0), (0, 1), (0, 2), (0, 3), (1, 0), (1, 1), (1, 2), (1, 3)]):\n",
        "\n",
        "    # Create a rectangle with a random color\n",
        "    color = next(colors)\n",
        "    ax = fig.add_subplot(gs[row, col])\n",
        "    rect = plt.Rectangle((0, 0), 1, 1, facecolor=color, edgecolor='black')\n",
        "    ax.add_patch(rect)\n",
        "\n",
        "    # Add text to the center of the rectangle\n",
        "    text = next(id)\n",
        "    ax.text(0.5, 0.5, s =text, ha='center', va='center', color='white', fontsize=14)\n",
        "    # Remove the ticks and axis labels\n",
        "    ax.set_xticks([])\n",
        "    ax.set_yticks([])\n",
        "    ax.set_xlabel('')\n",
        "    ax.set_ylabel('')\n",
        "\n",
        "# Set the title of the plot\n",
        "fig.suptitle('Stowage plan', fontsize=16)\n",
        "\n",
        "# Display the plot\n",
        "plt.show()"
      ],
      "metadata": {
        "id": "rpyHiWHDwkyM",
        "colab": {
          "base_uri": "https://localhost:8080/",
          "height": 317
        },
        "outputId": "16071b6d-005b-4cd3-93a8-62d62dd54bd1"
      },
      "execution_count": null,
      "outputs": [
        {
          "output_type": "display_data",
          "data": {
            "text/plain": [
              "<Figure size 600x600 with 8 Axes>"
            ],
            "image/png": "[encoded data removed]"
          },
          "metadata": {}
        }
      ]
    },
    {
      "cell_type": "code",
      "source": [
        "import matplotlib.pyplot as plt\n",
        "import numpy as np\n",
        "from matplotlib.gridspec import GridSpec\n",
        "from itertools import cycle\n",
        "import firebase_admin\n",
        "from firebase_admin import credentials\n",
        "from firebase_admin import firestore\n",
        "\n",
        "# Initialize Firestore\n",
        "db = firestore.client()\n",
        "\n",
        "# Define the colors of the boxes\n",
        "colors = cycle(['red', 'green', 'purple', 'orange', 'navy',  'blue', 'pink', 'brown'])\n",
        "\n",
        "# Create a 4x4 grid of subplots using GridSpec\n",
        "fig = plt.figure(figsize=(6, 6))\n",
        "gs = GridSpec(nrows=4, ncols=4, figure=fig)\n",
        "\n",
        "# Iterate over each subplot\n",
        "for i, (row, col) in enumerate([(0, 0), (0, 1), (1, 1), (1, 0), (0, 3), (0, 2), (1, 2), (1, 3)]):\n",
        "\n",
        "    # Get container ID from Firestore based on location\n",
        "    container_ref = db.collection(\"results\").where(\"location\", \"==\", i+1).get()\n",
        "\n",
        "    if len(container_ref) == 0:\n",
        "        container_id = \"N/A\"  # If container not found, display \"N/A\"\n",
        "    else:\n",
        "        container_data = container_ref[0].to_dict()\n",
        "        container_id = container_data.get(\"id\", \"N/A\")  # Get the \"id\" field value from the document\n",
        "\n",
        "    # Create a rectangle with a random color\n",
        "    color = next(colors)\n",
        "    ax = fig.add_subplot(gs[row, col])\n",
        "    rect = plt.Rectangle((0, 0), 1, 1, facecolor=color, edgecolor='black')\n",
        "    ax.add_patch(rect)\n",
        "\n",
        "    # Add text to the center of the rectangle\n",
        "    ax.text(0.5, 0.5, s=container_id, ha='center', va='center', color='white', fontsize=14)\n",
        "\n",
        "    # Remove the ticks and axis labels\n",
        "    ax.set_xticks([])\n",
        "    ax.set_yticks([])\n",
        "    ax.set_xlabel('')\n",
        "    ax.set_ylabel('')\n",
        "\n",
        "# Set the title of the plot\n",
        "fig.suptitle('Stowage plan', fontsize=16)\n",
        "\n",
        "# Display the plot\n",
        "plt.show()\n"
      ],
      "metadata": {
        "colab": {
          "base_uri": "https://localhost:8080/",
          "height": 317
        },
        "id": "wVHmpDJ1KZQm",
        "outputId": "76efde48-b386-4e84-8dc6-ea4d95d267dc"
      },
      "execution_count": null,
      "outputs": [
        {
          "output_type": "display_data",
          "data": {
            "text/plain": [
              "<Figure size 600x600 with 8 Axes>"
            ],
            "image/png": "[encoded data removed]"
          },
          "metadata": {}
        }
      ]
    },
    {
      "cell_type": "code",
      "source": [],
      "metadata": {
        "id": "3SwvGFg5Khgm"
      },
      "execution_count": null,
      "outputs": []
    }
  ]
}